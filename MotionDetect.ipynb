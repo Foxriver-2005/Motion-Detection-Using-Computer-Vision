{
 "cells": [
  {
   "cell_type": "code",
   "execution_count": 1,
   "id": "a48d017f",
   "metadata": {},
   "outputs": [
    {
     "name": "stderr",
     "output_type": "stream",
     "text": [
      "/tmp/ipykernel_14989/2373715958.py:44: FutureWarning: The frame.append method is deprecated and will be removed from pandas in a future version. Use pandas.concat instead.\n",
      "  df = df.append({\"start\":time[i], \"End\":time[i+1]},ignore_index = True)\n",
      "/tmp/ipykernel_14989/2373715958.py:44: FutureWarning: The frame.append method is deprecated and will be removed from pandas in a future version. Use pandas.concat instead.\n",
      "  df = df.append({\"start\":time[i], \"End\":time[i+1]},ignore_index = True)\n",
      "/tmp/ipykernel_14989/2373715958.py:44: FutureWarning: The frame.append method is deprecated and will be removed from pandas in a future version. Use pandas.concat instead.\n",
      "  df = df.append({\"start\":time[i], \"End\":time[i+1]},ignore_index = True)\n",
      "/tmp/ipykernel_14989/2373715958.py:44: FutureWarning: The frame.append method is deprecated and will be removed from pandas in a future version. Use pandas.concat instead.\n",
      "  df = df.append({\"start\":time[i], \"End\":time[i+1]},ignore_index = True)\n"
     ]
    }
   ],
   "source": [
    "import cv2, time, pandas\n",
    "from datetime import datetime\n",
    "static_back = None\n",
    "motion_list = [None,None]\n",
    "time = []\n",
    "df = pandas.DataFrame(columns = [\"Start\",\"End\"])\n",
    "video = cv2.VideoCapture(0)\n",
    "while True:\n",
    "    check, frame = video.read()\n",
    "    motion = 0\n",
    "    gray = cv2.cvtColor(frame,cv2.COLOR_BGR2GRAY)\n",
    "    gray = cv2.GaussianBlur(gray,(21,21),0)\n",
    "    if static_back is None:\n",
    "        static_back = gray\n",
    "        continue\n",
    "    diff_frame = cv2.absdiff(static_back,gray)\n",
    "    thresh_frame = cv2.threshold(diff_frame,30,255,cv2.THRESH_BINARY)[1]\n",
    "    thresh_frame = cv2.dilate(thresh_frame,None,iterations = 2)\n",
    "    \n",
    "    cnts,_ = cv2.findContours(thresh_frame.copy(),\n",
    "                             cv2.RETR_EXTERNAL, cv2.CHAIN_APPROX_SIMPLE)\n",
    "    for contour in cnts:\n",
    "        if cv2.contourArea(contour) < 10000:\n",
    "            continue\n",
    "        motion = 1\n",
    "        (x,y,h,w) = cv2.boundingRect(contour)\n",
    "        cv2.rectangle(frame,(x,y),(x+w, y+h),(0,255,0),3)\n",
    "    motion_list.append(motion)\n",
    "    motion_list = motion_list[-2:]\n",
    "    if motion_list[-1] == 1 and motion_list[-2] == 0:\n",
    "        time.append(datetime.now())\n",
    "    if motion_list[-1] == 0 and motion_list[-2] == 1:\n",
    "        time.append(datetime.now())\n",
    "    cv2.imshow(\"Gray Frame\",gray)\n",
    "    cv2.imshow(\"Difference Frame\",diff_frame)\n",
    "    cv2.imshow(\"Threshold Frame\", thresh_frame)\n",
    "    cv2.imshow(\"Color Frame\",frame)\n",
    "    key = cv2.waitKey(1)\n",
    "    if key == ord('q'):\n",
    "        if motion == 1:\n",
    "            time.append(datetime.now())\n",
    "        break\n",
    "for i in range(0,len(time),2):\n",
    "    df = df.append({\"start\":time[i], \"End\":time[i+1]},ignore_index = True)\n",
    "df.to_csv(\"Time_of_Movements.csv\")\n",
    "video.release()\n",
    "cv2.destroyAllWindows()\n",
    "#END OF THE CODE"
   ]
  },
  {
   "cell_type": "code",
   "execution_count": null,
   "id": "63999083",
   "metadata": {},
   "outputs": [],
   "source": []
  },
  {
   "cell_type": "code",
   "execution_count": null,
   "id": "2f692937",
   "metadata": {},
   "outputs": [],
   "source": []
  },
  {
   "cell_type": "code",
   "execution_count": null,
   "id": "80215011",
   "metadata": {},
   "outputs": [],
   "source": []
  }
 ],
 "metadata": {
  "kernelspec": {
   "display_name": "Python 3 (ipykernel)",
   "language": "python",
   "name": "python3"
  },
  "language_info": {
   "codemirror_mode": {
    "name": "ipython",
    "version": 3
   },
   "file_extension": ".py",
   "mimetype": "text/x-python",
   "name": "python",
   "nbconvert_exporter": "python",
   "pygments_lexer": "ipython3",
   "version": "3.11.2"
  }
 },
 "nbformat": 4,
 "nbformat_minor": 5
}
